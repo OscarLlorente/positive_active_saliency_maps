{
 "cells": [
  {
   "cell_type": "code",
   "execution_count": 298,
   "metadata": {},
   "outputs": [],
   "source": [
    "# deep learning libraries\n",
    "import torch\n",
    "\n",
    "# other libraries\n",
    "import os\n",
    "import matplotlib.pyplot as plt\n",
    "\n",
    "# own libraries\n",
    "from src.train.utils import load_data, set_seed\n",
    "from src.explain.saliency_maps import (\n",
    "    SaliencyMap,\n",
    "    PositiveSaliencyMap,\n",
    "    NegativeSaliencyMap,\n",
    "    ActiveSaliencyMap,\n",
    "    InactiveSaliencyMap,\n",
    ")\n",
    "from src.explain.utils import format_image\n",
    "\n",
    "# set all seeds and set number of threads\n",
    "# set_seed(42)\n",
    "torch.set_num_threads(8)\n",
    "\n",
    "\n",
    "# set device\n",
    "device: torch.device = (\n",
    "    torch.device(\"cuda\") if torch.cuda.is_available() else torch.device(\"cpu\")\n",
    ")"
   ]
  },
  {
   "cell_type": "code",
   "execution_count": 299,
   "metadata": {},
   "outputs": [
    {
     "data": {
      "text/plain": [
       "CNNModel(\n",
       "  (cnn_net): Sequential(\n",
       "    (0): Conv2d(1, 32, kernel_size=(7, 7), stride=(2, 2), padding=(3, 3))\n",
       "    (1): ReLU()\n",
       "    (2): MaxPool2d(kernel_size=3, stride=2, padding=1, dilation=1, ceil_mode=False)\n",
       "    (3): Block(\n",
       "      (net): Sequential(\n",
       "        (0): Conv2d(32, 32, kernel_size=(3, 3), stride=(1, 1), padding=(1, 1))\n",
       "        (1): ReLU()\n",
       "        (2): Conv2d(32, 32, kernel_size=(3, 3), stride=(2, 2), padding=(1, 1))\n",
       "        (3): ReLU()\n",
       "        (4): Conv2d(32, 32, kernel_size=(3, 3), stride=(1, 1), padding=(1, 1))\n",
       "        (5): ReLU()\n",
       "      )\n",
       "    )\n",
       "    (4): Block(\n",
       "      (net): Sequential(\n",
       "        (0): Conv2d(32, 64, kernel_size=(3, 3), stride=(1, 1), padding=(1, 1))\n",
       "        (1): ReLU()\n",
       "        (2): Conv2d(64, 64, kernel_size=(3, 3), stride=(2, 2), padding=(1, 1))\n",
       "        (3): ReLU()\n",
       "        (4): Conv2d(64, 64, kernel_size=(3, 3), stride=(1, 1), padding=(1, 1))\n",
       "        (5): ReLU()\n",
       "      )\n",
       "    )\n",
       "    (5): Block(\n",
       "      (net): Sequential(\n",
       "        (0): Conv2d(64, 128, kernel_size=(3, 3), stride=(1, 1), padding=(1, 1))\n",
       "        (1): ReLU()\n",
       "        (2): Conv2d(128, 128, kernel_size=(3, 3), stride=(2, 2), padding=(1, 1))\n",
       "        (3): ReLU()\n",
       "        (4): Conv2d(128, 128, kernel_size=(3, 3), stride=(1, 1), padding=(1, 1))\n",
       "        (5): ReLU()\n",
       "      )\n",
       "    )\n",
       "  )\n",
       "  (gap): AdaptiveAvgPool2d(output_size=(1, 1))\n",
       "  (classifier): Linear(in_features=128, out_features=10, bias=True)\n",
       ")"
      ]
     },
     "execution_count": 299,
     "metadata": {},
     "output_type": "execute_result"
    }
   ],
   "source": [
    "# load model\n",
    "model: torch.nn.Module = torch.load(f\"models/mnist/cnn_pretrained_False.pt\").to(device)\n",
    "model.eval()"
   ]
  },
  {
   "cell_type": "code",
   "execution_count": 300,
   "metadata": {},
   "outputs": [],
   "source": [
    "# load data\n",
    "train_data, val_data = load_data(\"mnist\", \"data/mnist\", batch_size=128, num_workers=4)\n",
    "\n",
    "# get example\n",
    "examples: torch.Tensor\n",
    "examples, labels = next(iter(train_data))\n",
    "examples = examples[labels == 8, :, :, :].to(device)"
   ]
  },
  {
   "cell_type": "code",
   "execution_count": 301,
   "metadata": {},
   "outputs": [],
   "source": [
    "if not os.path.isdir(\"visualizations/selected_examples\"):\n",
    "    os.makedirs(\"visualizations/selected_examples\")"
   ]
  },
  {
   "cell_type": "code",
   "execution_count": 302,
   "metadata": {},
   "outputs": [],
   "source": [
    "index = 4"
   ]
  },
  {
   "cell_type": "code",
   "execution_count": 303,
   "metadata": {},
   "outputs": [
    {
     "data": {
      "image/png": "[encoded data removed]",
      "text/plain": [
       "<Figure size 640x480 with 1 Axes>"
      ]
     },
     "metadata": {},
     "output_type": "display_data"
    }
   ],
   "source": [
    "plt.axis(\"off\")\n",
    "plt.imshow(format_image(examples[0]), cmap=\"hot\")\n",
    "plt.savefig(\n",
    "    f\"visualizations/selected_examples/{index}.png\",\n",
    "    bbox_inches=\"tight\",\n",
    "    pad_inches=0,\n",
    "    format=\"png\",\n",
    "    dpi=300,\n",
    ")"
   ]
  },
  {
   "cell_type": "code",
   "execution_count": 304,
   "metadata": {},
   "outputs": [
    {
     "data": {
      "image/png": "[encoded data removed]",
      "text/plain": [
       "<Figure size 640x480 with 1 Axes>"
      ]
     },
     "metadata": {},
     "output_type": "display_data"
    }
   ],
   "source": [
    "explainer = SaliencyMap(model)\n",
    "saliency_maps = explainer.explain(examples)\n",
    "plt.axis(\"off\")\n",
    "plt.imshow(saliency_maps[0].cpu().detach().numpy(), cmap=\"hot\")\n",
    "plt.savefig(\n",
    "    f\"visualizations/selected_examples/{index}_saliency_map.png\",\n",
    "    bbox_inches=\"tight\",\n",
    "    pad_inches=0,\n",
    "    format=\"png\",\n",
    "    dpi=300,\n",
    ")"
   ]
  },
  {
   "cell_type": "code",
   "execution_count": 305,
   "metadata": {},
   "outputs": [
    {
     "data": {
      "image/png": "[encoded data removed]",
      "text/plain": [
       "<Figure size 640x480 with 1 Axes>"
      ]
     },
     "metadata": {},
     "output_type": "display_data"
    }
   ],
   "source": [
    "explainer = PositiveSaliencyMap(model)\n",
    "saliency_maps = explainer.explain(examples)\n",
    "plt.axis(\"off\")\n",
    "plt.imshow(saliency_maps[0].cpu().detach().numpy(), cmap=\"hot\")\n",
    "plt.savefig(\n",
    "    f\"visualizations/selected_examples/{index}_positive_saliency_map.png\",\n",
    "    bbox_inches=\"tight\",\n",
    "    pad_inches=0,\n",
    "    format=\"png\",\n",
    "    dpi=300,\n",
    ")"
   ]
  },
  {
   "cell_type": "code",
   "execution_count": 306,
   "metadata": {},
   "outputs": [
    {
     "data": {
      "image/png": "[encoded data removed]",
      "text/plain": [
       "<Figure size 640x480 with 1 Axes>"
      ]
     },
     "metadata": {},
     "output_type": "display_data"
    }
   ],
   "source": [
    "explainer = NegativeSaliencyMap(model)\n",
    "saliency_maps = explainer.explain(examples)\n",
    "plt.axis(\"off\")\n",
    "plt.imshow(saliency_maps[0].cpu().detach().numpy(), cmap=\"hot\")\n",
    "plt.savefig(\n",
    "    f\"visualizations/selected_examples/{index}_negative_saliency_map.png\",\n",
    "    bbox_inches=\"tight\",\n",
    "    pad_inches=0,\n",
    "    format=\"png\",\n",
    "    dpi=300,\n",
    ")"
   ]
  },
  {
   "cell_type": "code",
   "execution_count": 307,
   "metadata": {},
   "outputs": [
    {
     "data": {
      "image/png": "[encoded data removed]",
      "text/plain": [
       "<Figure size 640x480 with 1 Axes>"
      ]
     },
     "metadata": {},
     "output_type": "display_data"
    }
   ],
   "source": [
    "explainer = ActiveSaliencyMap(model)\n",
    "saliency_maps = explainer.explain(examples)\n",
    "plt.axis(\"off\")\n",
    "plt.imshow(saliency_maps[0].cpu().detach().numpy(), cmap=\"hot\")\n",
    "plt.savefig(\n",
    "    f\"visualizations/selected_examples/{index}_active_saliency_map.png\",\n",
    "    bbox_inches=\"tight\",\n",
    "    pad_inches=0,\n",
    "    format=\"png\",\n",
    "    dpi=300,\n",
    ")"
   ]
  },
  {
   "cell_type": "code",
   "execution_count": 308,
   "metadata": {},
   "outputs": [
    {
     "data": {
      "image/png": "[encoded data removed]",
      "text/plain": [
       "<Figure size 640x480 with 1 Axes>"
      ]
     },
     "metadata": {},
     "output_type": "display_data"
    }
   ],
   "source": [
    "explainer = InactiveSaliencyMap(model)\n",
    "saliency_maps = explainer.explain(examples)\n",
    "plt.axis(\"off\")\n",
    "plt.imshow(saliency_maps[0].cpu().detach().numpy(), cmap=\"hot\")\n",
    "plt.savefig(\n",
    "    f\"visualizations/selected_examples/{index}_inactive_saliency_map.png\",\n",
    "    bbox_inches=\"tight\",\n",
    "    pad_inches=0,\n",
    "    format=\"png\",\n",
    "    dpi=300,\n",
    ")"
   ]
  },
  {
   "cell_type": "code",
   "execution_count": null,
   "metadata": {},
   "outputs": [],
   "source": []
  }
 ],
 "metadata": {
  "kernelspec": {
   "display_name": "env",
   "language": "python",
   "name": "python3"
  },
  "language_info": {
   "codemirror_mode": {
    "name": "ipython",
    "version": 3
   },
   "file_extension": ".py",
   "mimetype": "text/x-python",
   "name": "python",
   "nbconvert_exporter": "python",
   "pygments_lexer": "ipython3",
   "version": "3.8.10"
  },
  "orig_nbformat": 4
 },
 "nbformat": 4,
 "nbformat_minor": 2
}
